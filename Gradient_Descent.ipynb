import numpy as np

def gradient_descent(a, b, c, d, learning_rate=0.01, epochs=1000):
    x = np.random.rand()
    for _ in range(epochs):
        func = a*x**3 + b*x**2 + c*x + d
        der_func = 3*a*x**2 + 2*b*x + c
        x = x - learning_rate * func / der_func
    return x

try:
    a = float(input("Enter the coefficient a (for x^3): "))
    b = float(input("Enter the coefficient b (for x^2): "))
    c = float(input("Enter the coefficient c (for x): "))
    d = float(input("Enter the constant term d: "))
    learning_rate = float(input("Enter the learning rate: "))
    epochs = int(input("Enter the number of epochs (iterations): "))

    root = gradient_descent(a, b, c, d, learning_rate, epochs)

    print(f"\nThe equation is: {a}x^3 + {b}x^2 + {c}x + {d} = 0")
    print(f"Solution for x = {root:.4f}")

except ValueError:
    print("Please enter valid numerical values.")
