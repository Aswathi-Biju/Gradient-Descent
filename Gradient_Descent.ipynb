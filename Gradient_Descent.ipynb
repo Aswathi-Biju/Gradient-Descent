import numpy as np

def gradient_descent(a, b, c, d, learning_rate=0.01, epochs=1000):
    x = np.random.rand()
    for _ in range(epochs):
        fx = a*x**3 + b*x**2 + c*x + d
        dfx = 3*a*x**2 + 2*b*x + c
        x = x - learning_rate * fx / dfx
    return x

try:
    a = float(input("Enter the coefficient a (for x^3): "))
    b = float(input("Enter the coefficient b (for x^2): "))
    c = float(input("Enter the coefficient c (for x): "))
    d = float(input("Enter the constant term d: "))
    learning_rate = float(input("Enter the learning rate: "))
    epochs = int(input("Enter the number of epochs (iterations): "))

    root = gradient_descent(a, b, c, d, learning_rate, epochs)

    print(f"\nThe equation is: {a}x^3 + {b}x^2 + {c}x + {d} = 0")
    print(f"Solution for x = {root:.4f}")

except ValueError:
    print("Please enter valid numerical values.")
The equation is: 4.0x^3 + 5.0x^2 + 3.0x + 2.0 = 0
Solution for x = -1.0000
